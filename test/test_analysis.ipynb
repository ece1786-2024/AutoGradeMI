{
 "cells": [
  {
   "cell_type": "code",
   "execution_count": 1,
   "metadata": {},
   "outputs": [],
   "source": [
    "import pandas as pd\n",
    "import numpy as np"
   ]
  },
  {
   "cell_type": "code",
   "execution_count": 2,
   "metadata": {},
   "outputs": [],
   "source": [
    "data_path = \"./test_integration.csv\"\n",
    "df = pd.read_csv(data_path)"
   ]
  },
  {
   "cell_type": "markdown",
   "metadata": {},
   "source": [
    "#### Get the accuracy of grader agent"
   ]
  },
  {
   "cell_type": "code",
   "execution_count": 5,
   "metadata": {},
   "outputs": [],
   "source": [
    "label_map = {\n",
    "    0: '<4',\n",
    "    1: 4.0,\n",
    "    2: 4.5,\n",
    "    3: 5.0,\n",
    "    4: 5.5,\n",
    "    5: 6.0,\n",
    "    6: 6.5,\n",
    "    7: 7.0,\n",
    "    8: 7.5,\n",
    "    9: 8.0,\n",
    "    10: 8.5,\n",
    "    11: 9.0\n",
    "}\n",
    "\n",
    "def get_acc_with_tol(pred_list, truth_list):\n",
    "    total = len(truth_list)\n",
    "    correct = 0\n",
    "    for (pred, truth) in zip(pred_list, truth_list):\n",
    "        if '<4' in pred:\n",
    "            pred = \"<4\"\n",
    "        elif float(pred) <= 4:\n",
    "            pred = '<4'\n",
    "        try:\n",
    "            if pred == '<4' or truth == '<4':\n",
    "                if pred == truth:\n",
    "                    correct += 1 \n",
    "            elif float(pred) == float(truth) or abs(float(pred) - float(truth)) == 0.5:\n",
    "            #elif float(pred) == float(truth) or abs(float(pred) - float(truth)) <= 1.0:\n",
    "                correct += 1\n",
    "        except:\n",
    "            total -= 1\n",
    "            print(f\"Conversion Error, Skipping pred: {pred}, truth: {truth}\")\n",
    "            continue\n",
    "    return correct / total\n",
    "\n",
    "\n",
    "def get_acc_no_tol(pred_list, truth_list):\n",
    "    total = len(truth_list)\n",
    "    correct = 0\n",
    "    for (pred, truth) in zip(pred_list, truth_list):\n",
    "        if '<4' in pred:\n",
    "            pred = \"<4\"\n",
    "        elif float(pred) < 4:\n",
    "            pred = '<4'\n",
    "        try:\n",
    "            if pred == '<4' or truth == '<4':\n",
    "                if pred == truth:\n",
    "                    correct += 1\n",
    "            elif float(pred) == float(truth):\n",
    "                correct += 1\n",
    "        except:\n",
    "            total -= 1\n",
    "            print(f\"Conversion Error, Skipping pred: {pred}, truth: {truth}\")\n",
    "            continue\n",
    "    return correct / total"
   ]
  },
  {
   "cell_type": "code",
   "execution_count": 9,
   "metadata": {},
   "outputs": [
    {
     "name": "stdout",
     "output_type": "stream",
     "text": [
      " ======== Grader LLM Performance Summary ===========\n",
      "\n",
      "accuracy with no tolerace: 0.22448979591836735\n",
      "accuracy with 0.5 tolerace: 0.5204081632653061\n",
      "\n"
     ]
    }
   ],
   "source": [
    "predict_list = df[\"predicted\"]\n",
    "truth_list = [label_map[i] for i in df[\"label\"]]\n",
    "\n",
    "print(\" ======== Grader LLM Performance Summary ===========\\n\")\n",
    "print(f\"accuracy with no tolerace: {get_acc_no_tol(predict_list, truth_list)}\")\n",
    "print(f\"accuracy with 0.5 tolerace: {get_acc_with_tol(predict_list, truth_list)}\\n\")\n"
   ]
  },
  {
   "cell_type": "markdown",
   "metadata": {},
   "source": [
    "### Get the performance of the sample essay generator"
   ]
  },
  {
   "cell_type": "code",
   "execution_count": 15,
   "metadata": {},
   "outputs": [
    {
     "name": "stdout",
     "output_type": "stream",
     "text": [
      "4 failed to generate a sample essay\n",
      "95.91836734693877 %\n"
     ]
    }
   ],
   "source": [
    "sample_essay_list = df[\"sample_essay\"]\n",
    "failed_essay_num = 0\n",
    "for e in sample_essay_list:\n",
    "    if \"Sorry, we cannot generate\" in e:\n",
    "        failed_essay_num += 1\n",
    "    \n",
    "print(f\"{failed_essay_num} failed to generate a sample essay\")\n",
    "print(f\"{(len(sample_essay_list) - failed_essay_num) / len(sample_essay_list) * 100} %\")\n"
   ]
  },
  {
   "cell_type": "markdown",
   "metadata": {},
   "source": [
    "### Get the performance of the feedback generator"
   ]
  },
  {
   "cell_type": "code",
   "execution_count": 18,
   "metadata": {},
   "outputs": [
    {
     "name": "stdout",
     "output_type": "stream",
     "text": [
      "1 failed to generate feedback\n",
      "98.9795918367347 %\n"
     ]
    }
   ],
   "source": [
    "feedback_list = df[\"feedback\"]\n",
    "failed_feedback_num = 0\n",
    "for f in feedback_list:\n",
    "    if \"But I failed to provide\" in f or \"Failed to generate 'good' feedback\" in f:\n",
    "        failed_feedback_num += 1\n",
    "\n",
    "print(f\"{failed_feedback_num} failed to generate feedback\")\n",
    "print(f\"{(len(feedback_list) - failed_feedback_num) / len(feedback_list) * 100} %\")\n"
   ]
  },
  {
   "cell_type": "code",
   "execution_count": null,
   "metadata": {},
   "outputs": [],
   "source": []
  }
 ],
 "metadata": {
  "kernelspec": {
   "display_name": "ece1786",
   "language": "python",
   "name": "python3"
  },
  "language_info": {
   "codemirror_mode": {
    "name": "ipython",
    "version": 3
   },
   "file_extension": ".py",
   "mimetype": "text/x-python",
   "name": "python",
   "nbconvert_exporter": "python",
   "pygments_lexer": "ipython3",
   "version": "3.10.14"
  }
 },
 "nbformat": 4,
 "nbformat_minor": 2
}

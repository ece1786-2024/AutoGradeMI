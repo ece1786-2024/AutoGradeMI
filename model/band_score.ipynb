{
 "cells": [
  {
   "cell_type": "code",
   "execution_count": null,
   "metadata": {},
   "outputs": [],
   "source": [
    "import os\n",
    "import torch\n",
    "from openai import OpenAI\n",
    "client = OpenAI()"
   ]
  },
  {
   "cell_type": "code",
   "execution_count": 23,
   "metadata": {},
   "outputs": [],
   "source": [
    "csv_file_path = os.path.join(\"data\", \"dataset\", \"processed\", \"clean_data.csv\")\n",
    "jsonl_file_path = os.path.join(\"data\", \"dataset\", \"processed\", \"clean_data.jsonl\")\n",
    "mini_data_path = os.path.join(\"..\", \"data\", \"dataset\", \"processed\", \"mini_data.jsonl\")\n",
    "mini_test_path = os.path.join(\"..\", \"data\", \"dataset\", \"processed\", \"mini_test.jsonl\")"
   ]
  },
  {
   "cell_type": "code",
   "execution_count": 24,
   "metadata": {},
   "outputs": [],
   "source": [
    "train_file = client.files.create(\n",
    "  file=open(mini_data_path, \"rb\"),\n",
    "  purpose=\"fine-tune\"\n",
    ")\n",
    "\n",
    "test_file = client.files.create(\n",
    "  file=open(mini_test_path, \"rb\"),\n",
    "  purpose=\"fine-tune\"\n",
    ")"
   ]
  },
  {
   "cell_type": "code",
   "execution_count": 27,
   "metadata": {},
   "outputs": [],
   "source": [
    "#Finetuning on mini dataset\n",
    "job = client.fine_tuning.jobs.create(\n",
    "  training_file=train_file.id,\n",
    "  validation_file=test_file.id,\n",
    "  model=\"gpt-4o-mini-2024-07-18\",\n",
    "    hyperparameters={\n",
    "    \"n_epochs\":3\n",
    "  }\n",
    ")"
   ]
  },
  {
   "cell_type": "code",
   "execution_count": 35,
   "metadata": {},
   "outputs": [
    {
     "name": "stdout",
     "output_type": "stream",
     "text": [
      "FineTuningJob(id='ftjob-9KecEmK3QUjy5xFSs6jSfkml', created_at=1731464514, error=Error(code=None, message=None, param=None), fine_tuned_model='ft:gpt-4o-mini-2024-07-18:personal::ASxOTfhV', finished_at=1731464855, hyperparameters=Hyperparameters(n_epochs=3, batch_size=1, learning_rate_multiplier=1.8), model='gpt-4o-mini-2024-07-18', object='fine_tuning.job', organization_id='org-ddAZbaTdTMt3bBOAwSkg0NcQ', result_files=['file-HYVxPFOGTxQoY30OblsJQDFn'], seed=1852577086, status='succeeded', trained_tokens=24294, training_file='file-KUKnKVWIr2UvKMxNqnWmKCns', validation_file='file-ms2LnPObPRrQ6YHAVGL00Qkh', estimated_finish=None, integrations=[], user_provided_suffix=None)\n"
     ]
    }
   ],
   "source": [
    "status = client.fine_tuning.jobs.retrieve(job.id)\n",
    "print(status)"
   ]
  },
  {
   "cell_type": "code",
   "execution_count": 33,
   "metadata": {},
   "outputs": [],
   "source": [
    "fine_tune_results = client.fine_tuning.jobs.retrieve(job.id).result_files\n",
    "result_file = client.files.retrieve(fine_tune_results[0])\n",
    "content = client.files.content(result_file.id)\n",
    "import base64\n",
    "\n",
    "base64.b64decode(content.text.encode(\"utf-8\"))\n",
    "\n",
    "with open('band_score_result.csv', \"wb\") as f:\n",
    "    f.write(base64.b64decode(content.text.encode(\"utf-8\")))\n",
    "\n"
   ]
  },
  {
   "cell_type": "code",
   "execution_count": null,
   "metadata": {},
   "outputs": [],
   "source": [
    "completion = client.chat.completions.create(\n",
    "  model=status.fine_tuned_model,\n",
    "  messages=[\n",
    "    {\"role\": \"system\", \"content\": \"You are a IELTS writing part examiner who is responsible to provide a band score given an essay\"},\n",
    "    {\"role\": \"user\", \"content\": \"\"}\n",
    "  ]\n",
    ")"
   ]
  }
 ],
 "metadata": {
  "kernelspec": {
   "display_name": "ece1786",
   "language": "python",
   "name": "python3"
  },
  "language_info": {
   "codemirror_mode": {
    "name": "ipython",
    "version": 3
   },
   "file_extension": ".py",
   "mimetype": "text/x-python",
   "name": "python",
   "nbconvert_exporter": "python",
   "pygments_lexer": "ipython3",
   "version": "3.10.14"
  }
 },
 "nbformat": 4,
 "nbformat_minor": 2
}

{
 "cells": [
  {
   "cell_type": "code",
   "execution_count": 52,
   "metadata": {},
   "outputs": [],
   "source": [
    "import os\n",
    "import torch\n",
    "from openai import OpenAI\n",
    "import pandas as pd\n",
    "from sklearn.metrics import mean_squared_error\n",
    "client = OpenAI()"
   ]
  },
  {
   "cell_type": "code",
   "execution_count": 37,
   "metadata": {},
   "outputs": [],
   "source": [
    "csv_file_path = os.path.join(\"data\", \"dataset\", \"processed\", \"clean_data.csv\")\n",
    "jsonl_file_path = os.path.join(\"data\", \"dataset\", \"processed\", \"clean_data.jsonl\")\n",
    "train_data_path = os.path.join(\"..\", \"data\", \"dataset\", \"processed\", \"train.jsonl\")\n",
    "val_data_path = os.path.join(\"..\", \"data\", \"dataset\", \"processed\", \"validation.jsonl\")"
   ]
  },
  {
   "cell_type": "code",
   "execution_count": 38,
   "metadata": {},
   "outputs": [],
   "source": [
    "train_file = client.files.create(\n",
    "  file=open(train_data_path, \"rb\"),\n",
    "  purpose=\"fine-tune\"\n",
    ")\n",
    "\n",
    "test_file = client.files.create(\n",
    "  file=open(val_data_path, \"rb\"),\n",
    "  purpose=\"fine-tune\"\n",
    ")"
   ]
  },
  {
   "cell_type": "code",
   "execution_count": 39,
   "metadata": {},
   "outputs": [],
   "source": [
    "#Finetuning on mini dataset\n",
    "job = client.fine_tuning.jobs.create(\n",
    "  training_file=train_file.id,\n",
    "  validation_file=test_file.id,\n",
    "  model=\"gpt-4o-mini-2024-07-18\",\n",
    "    hyperparameters={\n",
    "    \"n_epochs\":3\n",
    "  }\n",
    ")"
   ]
  },
  {
   "cell_type": "code",
   "execution_count": 41,
   "metadata": {},
   "outputs": [
    {
     "name": "stdout",
     "output_type": "stream",
     "text": [
      "FineTuningJob(id='ftjob-ZMpfVKMUq0c51IZFqW44aA7b', created_at=1731530796, error=Error(code=None, message=None, param=None), fine_tuned_model='ft:gpt-4o-mini-2024-07-18:personal::ATFE3srB', finished_at=1731533401, hyperparameters=Hyperparameters(n_epochs=3, batch_size=1, learning_rate_multiplier=1.8), model='gpt-4o-mini-2024-07-18', object='fine_tuning.job', organization_id='org-ddAZbaTdTMt3bBOAwSkg0NcQ', result_files=['file-0HNOcPjevGzBpmPuynA2ai9N'], seed=400058700, status='succeeded', trained_tokens=735663, training_file='file-SIGRXh9lLqDxSishdOu361KW', validation_file='file-Q9gXoexRdQXVvvyyNDFhk60O', estimated_finish=None, integrations=[], user_provided_suffix=None)\n"
     ]
    }
   ],
   "source": [
    "status = client.fine_tuning.jobs.retrieve(job.id)\n",
    "print(status)"
   ]
  },
  {
   "cell_type": "code",
   "execution_count": 42,
   "metadata": {},
   "outputs": [],
   "source": [
    "fine_tune_results = client.fine_tuning.jobs.retrieve(job.id).result_files\n",
    "result_file = client.files.retrieve(fine_tune_results[0])\n",
    "content = client.files.content(result_file.id)\n",
    "import base64\n",
    "\n",
    "base64.b64decode(content.text.encode(\"utf-8\"))\n",
    "\n",
    "with open('band_score_result.csv', \"wb\") as f:\n",
    "    f.write(base64.b64decode(content.text.encode(\"utf-8\")))\n",
    "\n"
   ]
  },
  {
   "cell_type": "code",
   "execution_count": null,
   "metadata": {},
   "outputs": [
    {
     "name": "stdout",
     "output_type": "stream",
     "text": [
      "ChatCompletionMessage(content='5.5', refusal=None, role='assistant', audio=None, function_call=None, tool_calls=None)\n"
     ]
    }
   ],
   "source": [
    "completion = client.chat.completions.create(\n",
    "  model=status.fine_tuned_model,\n",
    "  messages=[\n",
    "    {\"role\": \"system\", \"content\": \"You are a IELTS writing part examiner who is responsible to provide a band score given an essay\"}, \n",
    "    {\"role\": \"user\", \"content\": \"Question: Some people think that all teenagers should be required to do unpaid work in their free time to help the local community. They believe this would benefit both the individual teenager and society as a whole. Do you agree or disagree?\\nEssay: Many people work on a volunteer basis, and this can only be beneficial for both individuals and society as a whole. Personally, I disagree with this opinion.\\nWorking as a volunteer has become increasingly popular among teenagers. I agree that this can help them to fulfill their free time. On the other hand, studying is more important than doing unpaid work and most of them find it extremely hard as a compulsory studying. If individual teenagers had free time, they would do sports instead of doing unpaid work. They have many years of work ahead of them when they finish their studies. \\nOn the other hand, those who think that all teenagers should be required to do unpaid work, they pressure on them and it can cause resentment amongst teenagers and society. Furthermore, I do not agree that society would benefit from unpaid work as a whole. To force young people to work as a volunteer could be counterproductive and parents would be dissatisfied how to rise their children. Encorcement on teenagers can gain nothing for the young and society. For example, recent survey on how enforcement can be devastating effect on children states that roughly over 50 percent of teenagers leave home to escape their parents' pressure. It shows us that doing unpaid work under pressure is not optional for both.\\nIn conclusion, despite the requirement that some people think about unpaid work, I do believe that studying is also as unpaid work for teenagers and to avoid pressure is more important than making this compulsory.\"}\n",
    "  ]\n",
    ")\n",
    "\n"
   ]
  },
  {
   "cell_type": "code",
   "execution_count": 50,
   "metadata": {},
   "outputs": [
    {
     "data": {
      "text/html": [
       "<div>\n",
       "<style scoped>\n",
       "    .dataframe tbody tr th:only-of-type {\n",
       "        vertical-align: middle;\n",
       "    }\n",
       "\n",
       "    .dataframe tbody tr th {\n",
       "        vertical-align: top;\n",
       "    }\n",
       "\n",
       "    .dataframe thead th {\n",
       "        text-align: right;\n",
       "    }\n",
       "</style>\n",
       "<table border=\"1\" class=\"dataframe\">\n",
       "  <thead>\n",
       "    <tr style=\"text-align: right;\">\n",
       "      <th></th>\n",
       "      <th>prompt</th>\n",
       "      <th>essay</th>\n",
       "      <th>band</th>\n",
       "    </tr>\n",
       "  </thead>\n",
       "  <tbody>\n",
       "    <tr>\n",
       "      <th>0</th>\n",
       "      <td>In some countries more and more people are bec...</td>\n",
       "      <td>In recent years, many people are concerned to ...</td>\n",
       "      <td>8.5</td>\n",
       "    </tr>\n",
       "    <tr>\n",
       "      <th>1</th>\n",
       "      <td>In some countries, more and more people are be...</td>\n",
       "      <td>In the modern world, many people have increasi...</td>\n",
       "      <td>6.0</td>\n",
       "    </tr>\n",
       "    <tr>\n",
       "      <th>2</th>\n",
       "      <td>The best way to solve the world's environmenta...</td>\n",
       "      <td>In recent years, there has been a debate on wh...</td>\n",
       "      <td>8.5</td>\n",
       "    </tr>\n",
       "    <tr>\n",
       "      <th>3</th>\n",
       "      <td>In some countries, more and more people are be...</td>\n",
       "      <td>Houses are the place that people live which is...</td>\n",
       "      <td>4.0</td>\n",
       "    </tr>\n",
       "    <tr>\n",
       "      <th>4</th>\n",
       "      <td>Some people believe that eventually all jobs w...</td>\n",
       "      <td>While it is true that in many nations of peopl...</td>\n",
       "      <td>8.0</td>\n",
       "    </tr>\n",
       "  </tbody>\n",
       "</table>\n",
       "</div>"
      ],
      "text/plain": [
       "                                              prompt  \\\n",
       "0  In some countries more and more people are bec...   \n",
       "1  In some countries, more and more people are be...   \n",
       "2  The best way to solve the world's environmenta...   \n",
       "3  In some countries, more and more people are be...   \n",
       "4  Some people believe that eventually all jobs w...   \n",
       "\n",
       "                                               essay  band  \n",
       "0  In recent years, many people are concerned to ...   8.5  \n",
       "1  In the modern world, many people have increasi...   6.0  \n",
       "2  In recent years, there has been a debate on wh...   8.5  \n",
       "3  Houses are the place that people live which is...   4.0  \n",
       "4  While it is true that in many nations of peopl...   8.0  "
      ]
     },
     "execution_count": 50,
     "metadata": {},
     "output_type": "execute_result"
    }
   ],
   "source": [
    "# Load the dataset\n",
    "file_path = 'C:/Users/EricZ/Documents/GitHub/nlp-project/data/dataset/processed/validation.csv'\n",
    "data = pd.read_csv(file_path)\n",
    "\n",
    "# Replace '<4' with an approximate numeric value (e.g., 3.5) for MSE calculation\n",
    "data['band'] = data['band'].apply(lambda x: 3.5 if x == '<4' else float(x))\n",
    "\n",
    "# Display the first few rows of the dataset\n",
    "data.head()"
   ]
  },
  {
   "cell_type": "code",
   "execution_count": 54,
   "metadata": {},
   "outputs": [],
   "source": [
    "def predict_band_score(prompt, essay):\n",
    "    # Prepare the chat completion request\n",
    "    response = client.chat.completions.create(\n",
    "        model=\"ft:gpt-4o-mini-2024-07-18:personal::ATH78GB6\",\n",
    "        messages=[\n",
    "            {\"role\": \"system\", \"content\": \"You are a IELTS writing part examiner who is responsible to provide a band score given an essay\"},\n",
    "            {\"role\": \"user\", \"content\": f\"Question: {prompt} \\nEssay: {essay}\"}\n",
    "        ]\n",
    "    )\n",
    "    \n",
    "    # Extract the prediction from the response\n",
    "    result = response.choices[0].message.content.strip()\n",
    "    \n",
    "    try:\n",
    "        predicted_score = float(result)\n",
    "        if predicted_score < 4.0:\n",
    "            return 3.5  # Convert low scores to 3.5 for comparison\n",
    "        return predicted_score\n",
    "    except ValueError:\n",
    "        print(\"Prediction error: unable to convert output to float.\")\n",
    "        return None"
   ]
  },
  {
   "cell_type": "code",
   "execution_count": 56,
   "metadata": {},
   "outputs": [
    {
     "name": "stdout",
     "output_type": "stream",
     "text": [
      "Prediction error: unable to convert output to float.\n",
      "Prediction error: unable to convert output to float.\n",
      "Prediction error: unable to convert output to float.\n",
      "Prediction error: unable to convert output to float.\n",
      "Prediction error: unable to convert output to float.\n",
      "Prediction error: unable to convert output to float.\n",
      "Prediction error: unable to convert output to float.\n",
      "Prediction error: unable to convert output to float.\n",
      "Mean Squared Error: 2.325892857142857\n",
      "Accuracy (within 0.5 band): 41.96%\n"
     ]
    }
   ],
   "source": [
    "def evaluate_model(data):\n",
    "    true_scores = []\n",
    "    predicted_scores = []\n",
    "    \n",
    "    for _, row in data.iterrows():\n",
    "        prompt, essay, true_score = row['prompt'], row['essay'], row['band']\n",
    "        predicted_score = predict_band_score(prompt, essay)\n",
    "        \n",
    "        if predicted_score is not None:\n",
    "            true_scores.append(true_score)\n",
    "            predicted_scores.append(predicted_score)\n",
    "\n",
    "    # Calculate MSE and accuracy\n",
    "    mse = mean_squared_error(true_scores, predicted_scores)\n",
    "    accuracy = sum([1 if ((t == p) or (t+0.5 == p) or (t-0.5 == p)) else 0 for t, p in zip(true_scores, predicted_scores)]) / len(true_scores)\n",
    "    return mse, accuracy\n",
    "\n",
    "# Run evaluation\n",
    "mse, accuracy = evaluate_model(data)\n",
    "print(f\"Mean Squared Error: {mse}\")\n",
    "print(f\"Accuracy (within 0.5 band): {accuracy * 100:.2f}%\")"
   ]
  }
 ],
 "metadata": {
  "kernelspec": {
   "display_name": "ece1786",
   "language": "python",
   "name": "python3"
  },
  "language_info": {
   "codemirror_mode": {
    "name": "ipython",
    "version": 3
   },
   "file_extension": ".py",
   "mimetype": "text/x-python",
   "name": "python",
   "nbconvert_exporter": "python",
   "pygments_lexer": "ipython3",
   "version": "3.10.14"
  }
 },
 "nbformat": 4,
 "nbformat_minor": 2
}

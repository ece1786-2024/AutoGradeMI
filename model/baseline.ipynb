{
 "cells": [
  {
   "cell_type": "markdown",
   "id": "3372529f",
   "metadata": {},
   "source": [
    "Validation Part"
   ]
  },
  {
   "cell_type": "code",
   "execution_count": 19,
   "id": "5cd4d2c9",
   "metadata": {},
   "outputs": [],
   "source": [
    "import pandas as pd\n",
    "from openai import OpenAI\n",
    "from sklearn.metrics import mean_squared_error\n",
    "import numpy as np\n",
    "client = OpenAI()\n"
   ]
  },
  {
   "cell_type": "code",
   "execution_count": null,
   "id": "d5c84d36",
   "metadata": {},
   "outputs": [
    {
     "data": {
      "text/html": [
       "<div>\n",
       "<style scoped>\n",
       "    .dataframe tbody tr th:only-of-type {\n",
       "        vertical-align: middle;\n",
       "    }\n",
       "\n",
       "    .dataframe tbody tr th {\n",
       "        vertical-align: top;\n",
       "    }\n",
       "\n",
       "    .dataframe thead th {\n",
       "        text-align: right;\n",
       "    }\n",
       "</style>\n",
       "<table border=\"1\" class=\"dataframe\">\n",
       "  <thead>\n",
       "    <tr style=\"text-align: right;\">\n",
       "      <th></th>\n",
       "      <th>prompt</th>\n",
       "      <th>essay</th>\n",
       "      <th>band</th>\n",
       "    </tr>\n",
       "  </thead>\n",
       "  <tbody>\n",
       "    <tr>\n",
       "      <th>0</th>\n",
       "      <td>In some countries more and more people are bec...</td>\n",
       "      <td>In recent years, many people are concerned to ...</td>\n",
       "      <td>8.5</td>\n",
       "    </tr>\n",
       "    <tr>\n",
       "      <th>1</th>\n",
       "      <td>In some countries, more and more people are be...</td>\n",
       "      <td>In the modern world, many people have increasi...</td>\n",
       "      <td>6.0</td>\n",
       "    </tr>\n",
       "    <tr>\n",
       "      <th>2</th>\n",
       "      <td>The best way to solve the world's environmenta...</td>\n",
       "      <td>In recent years, there has been a debate on wh...</td>\n",
       "      <td>8.5</td>\n",
       "    </tr>\n",
       "    <tr>\n",
       "      <th>3</th>\n",
       "      <td>In some countries, more and more people are be...</td>\n",
       "      <td>Houses are the place that people live which is...</td>\n",
       "      <td>4.0</td>\n",
       "    </tr>\n",
       "    <tr>\n",
       "      <th>4</th>\n",
       "      <td>Some people believe that eventually all jobs w...</td>\n",
       "      <td>While it is true that in many nations of peopl...</td>\n",
       "      <td>8.0</td>\n",
       "    </tr>\n",
       "  </tbody>\n",
       "</table>\n",
       "</div>"
      ],
      "text/plain": [
       "                                              prompt  \\\n",
       "0  In some countries more and more people are bec...   \n",
       "1  In some countries, more and more people are be...   \n",
       "2  The best way to solve the world's environmenta...   \n",
       "3  In some countries, more and more people are be...   \n",
       "4  Some people believe that eventually all jobs w...   \n",
       "\n",
       "                                               essay  band  \n",
       "0  In recent years, many people are concerned to ...   8.5  \n",
       "1  In the modern world, many people have increasi...   6.0  \n",
       "2  In recent years, there has been a debate on wh...   8.5  \n",
       "3  Houses are the place that people live which is...   4.0  \n",
       "4  While it is true that in many nations of peopl...   8.0  "
      ]
     },
     "execution_count": 20,
     "metadata": {},
     "output_type": "execute_result"
    }
   ],
   "source": [
    "# Load the dataset\n",
    "file_path = './dataset/processed/validation.csv'\n",
    "data = pd.read_csv(file_path)\n",
    "\n",
    "# Replace '<4' with an approximate numeric value (e.g., 3.5) for MSE calculation\n",
    "data['band'] = data['band'].apply(lambda x: 3.5 if x == '<4' else float(x))\n",
    "\n",
    "# Display the first few rows of the dataset\n",
    "data.head()"
   ]
  },
  {
   "cell_type": "code",
   "execution_count": 23,
   "id": "77b0239a",
   "metadata": {},
   "outputs": [],
   "source": [
    "# Function to predict IELTS band score using GPT model with structured API call\n",
    "def predict_band_score(prompt, essay):\n",
    "    # Prepare the chat completion request\n",
    "    response = client.chat.completions.create(\n",
    "        model=\"gpt-4o-mini\",\n",
    "        messages=[\n",
    "            {\"role\": \"system\", \"content\": \"You are an IELTS examiner who scores essays based on writing standards. Output overall band score float number only\"},\n",
    "            {\"role\": \"user\", \"content\": f\"{prompt}\\nEssay: {essay}\"}\n",
    "        ]\n",
    "    )\n",
    "    \n",
    "    # Extract the prediction from the response\n",
    "    result = response.choices[0].message.content.strip()\n",
    "    \n",
    "    try:\n",
    "        predicted_score = float(result)\n",
    "        if predicted_score < 4.0:\n",
    "            return 3.5  # Convert low scores to 3.5 for comparison\n",
    "        return predicted_score\n",
    "    except ValueError:\n",
    "        print(\"Prediction error: unable to convert output to float.\")\n",
    "        return None"
   ]
  },
  {
   "cell_type": "code",
   "execution_count": 25,
   "id": "f46f1215",
   "metadata": {},
   "outputs": [
    {
     "name": "stdout",
     "output_type": "stream",
     "text": [
      "Mean Squared Error: 2.8625\n",
      "Accuracy (within 0.5 band): 31.67%\n"
     ]
    }
   ],
   "source": [
    "# Calculate MSE and accuracy\n",
    "def evaluate_model(data):\n",
    "    true_scores = []\n",
    "    predicted_scores = []\n",
    "    \n",
    "    for _, row in data.iterrows():\n",
    "        prompt, essay, true_score = row['prompt'], row['essay'], row['band']\n",
    "        predicted_score = predict_band_score(prompt, essay)\n",
    "        \n",
    "        if predicted_score is not None:\n",
    "            true_scores.append(true_score)\n",
    "            predicted_scores.append(predicted_score)\n",
    "\n",
    "    # Calculate MSE and accuracy\n",
    "    mse = mean_squared_error(true_scores, predicted_scores)\n",
    "    accuracy = sum([1 if ((t == p) or (t+0.5 == p) or (t-0.5 == p)) else 0 for t, p in zip(true_scores, predicted_scores)]) / len(true_scores)\n",
    "    return mse, accuracy\n",
    "\n",
    "# Run evaluation\n",
    "mse, accuracy = evaluate_model(data)\n",
    "print(f\"Mean Squared Error: {mse}\")\n",
    "print(f\"Accuracy (within 0.5 band): {accuracy * 100:.2f}%\")"
   ]
  },
  {
   "cell_type": "markdown",
   "id": "bf3f9207",
   "metadata": {},
   "source": [
    "User Input Part"
   ]
  },
  {
   "cell_type": "code",
   "execution_count": null,
   "id": "cbd899cd",
   "metadata": {},
   "outputs": [],
   "source": [
    "# Take user input for a new prediction\n",
    "user_prompt = input(\"Enter the task prompt: \")\n",
    "user_essay = input(\"Enter the essay: \")\n",
    "\n",
    "# Predict band score based on user input\n",
    "predicted_band = predict_band_score(user_prompt, user_essay, model=\"gpt-4o-mini\")\n",
    "\n",
    "if predicted_band is not None:\n",
    "    if predicted_band == 3.5:\n",
    "        print(\"Predicted IELTS band score: <4\")\n",
    "    else:\n",
    "        print(f\"Predicted IELTS band score: {predicted_band}\")\n",
    "else:\n",
    "    print(\"Prediction error occurred.\")"
   ]
  }
 ],
 "metadata": {
  "language_info": {
   "name": "python"
  }
 },
 "nbformat": 4,
 "nbformat_minor": 5
}

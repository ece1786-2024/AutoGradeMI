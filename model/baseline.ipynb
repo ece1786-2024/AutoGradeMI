{
 "cells": [
  {
   "cell_type": "markdown",
   "id": "3372529f",
   "metadata": {},
   "source": [
    "Validation Part"
   ]
  },
  {
   "cell_type": "code",
   "execution_count": null,
   "id": "5cd4d2c9",
   "metadata": {},
   "outputs": [],
   "source": [
    "import pandas as pd\n",
    "import openai\n",
    "from sklearn.metrics import mean_squared_error\n",
    "import numpy as np"
   ]
  },
  {
   "cell_type": "code",
   "execution_count": null,
   "id": "d5c84d36",
   "metadata": {},
   "outputs": [],
   "source": [
    "# Load the dataset\n",
    "file_path = './dataset/processed/validation.csv'\n",
    "data = pd.read_csv(file_path)\n",
    "\n",
    "# Replace '<4' with an approximate numeric value (e.g., 3.5) for MSE calculation\n",
    "data['band'] = data['band'].apply(lambda x: 3.5 if x == '<4' else float(x))\n",
    "\n",
    "# Display the first few rows of the dataset\n",
    "data.head()"
   ]
  },
  {
   "cell_type": "code",
   "execution_count": null,
   "id": "77b0239a",
   "metadata": {},
   "outputs": [],
   "source": [
    "# Function to predict IELTS band score using GPT model with structured API call\n",
    "def predict_band_score(prompt, essay):\n",
    "    # Prepare the chat completion request\n",
    "    response = openai.ChatCompletion.create(\n",
    "        model=\"gpt-4o-mini\",\n",
    "        messages=[\n",
    "            {\"role\": \"system\", \"content\": \"You are an IELTS examiner who scores essays based on writing standards.\"},\n",
    "            {\"role\": \"user\", \"content\": f\"{prompt}\\nEssay: {essay}\"}\n",
    "        ]\n",
    "    )\n",
    "    \n",
    "    # Extract the prediction from the response\n",
    "    result = response.choices[0].message['content'].strip()\n",
    "    \n",
    "    try:\n",
    "        predicted_score = float(result)\n",
    "        if predicted_score < 4.0:\n",
    "            return 3.5  # Convert low scores to 3.5 for comparison\n",
    "        return predicted_score\n",
    "    except ValueError:\n",
    "        print(\"Prediction error: unable to convert output to float.\")\n",
    "        return None"
   ]
  },
  {
   "cell_type": "code",
   "execution_count": null,
   "id": "f46f1215",
   "metadata": {},
   "outputs": [],
   "source": [
    "# Calculate MSE and accuracy\n",
    "def evaluate_model(data):\n",
    "    true_scores = []\n",
    "    predicted_scores = []\n",
    "    \n",
    "    for _, row in data.iterrows():\n",
    "        prompt, essay, true_score = row['prompt'], row['essay'], row['band']\n",
    "        predicted_score = predict_band_score(prompt, essay)\n",
    "        \n",
    "        if predicted_score is not None:\n",
    "            true_scores.append(true_score)\n",
    "            predicted_scores.append(predicted_score)\n",
    "\n",
    "    # Calculate MSE and accuracy\n",
    "    mse = mean_squared_error(true_scores, predicted_scores)\n",
    "    accuracy = sum([1 if t == p else 0 for t, p in zip(true_scores, predicted_scores)]) / len(true_scores)\n",
    "    return mse, accuracy\n",
    "\n",
    "# Run evaluation\n",
    "mse, accuracy = evaluate_model(data)\n",
    "print(f\"Mean Squared Error: {mse}\")\n",
    "print(f\"Accuracy (within 0.5 band): {accuracy * 100:.2f}%\")"
   ]
  },
  {
   "cell_type": "markdown",
   "id": "bf3f9207",
   "metadata": {},
   "source": [
    "User Input Part"
   ]
  },
  {
   "cell_type": "code",
   "execution_count": null,
   "id": "cbd899cd",
   "metadata": {},
   "outputs": [],
   "source": [
    "# Take user input for a new prediction\n",
    "user_prompt = input(\"Enter the task prompt: \")\n",
    "user_essay = input(\"Enter the essay: \")\n",
    "\n",
    "# Predict band score based on user input\n",
    "predicted_band = predict_band_score(user_prompt, user_essay, model=\"gpt-4o-mini\")\n",
    "\n",
    "if predicted_band is not None:\n",
    "    if predicted_band == 3.5:\n",
    "        print(\"Predicted IELTS band score: <4\")\n",
    "    else:\n",
    "        print(f\"Predicted IELTS band score: {predicted_band}\")\n",
    "else:\n",
    "    print(\"Prediction error occurred.\")"
   ]
  }
 ],
 "metadata": {
  "language_info": {
   "name": "python"
  }
 },
 "nbformat": 4,
 "nbformat_minor": 5
}

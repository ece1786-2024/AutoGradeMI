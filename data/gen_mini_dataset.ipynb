{
 "cells": [
  {
   "cell_type": "markdown",
   "metadata": {},
   "source": [
    "### Complement program for clean_data.csv\n",
    "\n",
    "##### GOAL: (1) shrink the size of clean_data.csv (2) Produce train.csv and validation.csv"
   ]
  },
  {
   "cell_type": "code",
   "execution_count": 38,
   "metadata": {},
   "outputs": [],
   "source": [
    "import os\n",
    "import pandas as pd\n",
    "import numpy as np\n",
    "import random\n"
   ]
  },
  {
   "cell_type": "code",
   "execution_count": 39,
   "metadata": {},
   "outputs": [
    {
     "name": "stdout",
     "output_type": "stream",
     "text": [
      "60 10 50\n"
     ]
    }
   ],
   "source": [
    "DATA_PATH = \"./dataset/processed/clean_data.csv\"\n",
    "TRAIN_EXPORT_PATH = \"./dataset/processed/train.csv\"\n",
    "TEST_EXPORT_PATH = \"./dataset/processed/validation.csv\"\n",
    "\n",
    "\n",
    "NUM_TRAIN = 600\n",
    "NUM_TEST = 120\n",
    "NUM_TOTAL = NUM_TRAIN + NUM_TEST\n",
    "NUM_CLASS = 12\n",
    "\n",
    "NUM_PER_CLASS = NUM_TOTAL // NUM_CLASS\n",
    "NUM_PER_TRAIN = NUM_TRAIN // NUM_CLASS\n",
    "NUM_PER_TEST = NUM_TEST // NUM_CLASS\n",
    "\n",
    "SEED = 52\n",
    "\n",
    "print(NUM_PER_CLASS, NUM_PER_TEST, NUM_PER_TRAIN)"
   ]
  },
  {
   "cell_type": "code",
   "execution_count": 40,
   "metadata": {},
   "outputs": [
    {
     "name": "stdout",
     "output_type": "stream",
     "text": [
      "['<4', '4.0', '4.5', '5.0', '5.5', '6.0', '6.5', '7.0', '7.5', '8.0', '8.5', '9.0']\n"
     ]
    }
   ],
   "source": [
    "# make the class list \n",
    "CLASS_LIST = [str(i) for i in list(np.arange(4, 9.5, 0.5))]\n",
    "CLASS_LIST.insert(0, '<4')\n",
    "print(CLASS_LIST)"
   ]
  },
  {
   "cell_type": "code",
   "execution_count": 41,
   "metadata": {},
   "outputs": [],
   "source": [
    "# read from csv file\n",
    "df = pd.read_csv(DATA_PATH)\n",
    "\n",
    "# the generation of data will be random\n",
    "train_data = pd.DataFrame([])\n",
    "test_data = pd.DataFrame([])\n",
    "\n",
    "df_group = df.groupby(\"band\")\n",
    "for c in CLASS_LIST:\n",
    "    df_sample = df_group.get_group(c)\n",
    "    # print(df_sample)\n",
    "\n",
    "    samples = df_sample.sample(NUM_PER_CLASS, ignore_index=True)\n",
    "\n",
    "    train_sample = samples[0:NUM_PER_TRAIN]\n",
    "    test_sample = samples[NUM_PER_TRAIN:]\n",
    "    \n",
    "    train_data = pd.concat([train_data, train_sample], axis=0, ignore_index=True)\n",
    "    test_data = pd.concat([test_data, test_sample], axis=0, ignore_index=True)\n",
    "\n",
    "# shuffle both train and test data\n",
    "train_data = train_data.sample(frac=1, random_state=SEED, ignore_index=True)\n",
    "test_data = test_data.sample(frac=1, random_state=SEED, ignore_index=True)\n",
    "\n",
    "# export data to csv files\n",
    "train_data.to_csv(TRAIN_EXPORT_PATH, index=False, encoding='utf-8', mode='w')\n",
    "test_data.to_csv(TEST_EXPORT_PATH, index=False, encoding='utf-8', mode='w')\n",
    "\n",
    "\n"
   ]
  }
 ],
 "metadata": {
  "kernelspec": {
   "display_name": "ece1786",
   "language": "python",
   "name": "python3"
  },
  "language_info": {
   "codemirror_mode": {
    "name": "ipython",
    "version": 3
   },
   "file_extension": ".py",
   "mimetype": "text/x-python",
   "name": "python",
   "nbconvert_exporter": "python",
   "pygments_lexer": "ipython3",
   "version": "3.10.14"
  }
 },
 "nbformat": 4,
 "nbformat_minor": 2
}

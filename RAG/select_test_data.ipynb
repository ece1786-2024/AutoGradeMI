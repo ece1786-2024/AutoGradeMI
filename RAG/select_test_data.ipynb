{
 "cells": [
  {
   "cell_type": "code",
   "execution_count": 3,
   "metadata": {},
   "outputs": [],
   "source": [
    "import pandas as pd\n",
    "import numpy as np"
   ]
  },
  {
   "cell_type": "code",
   "execution_count": null,
   "metadata": {},
   "outputs": [],
   "source": [
    "label_map = {\n",
    "    0: '<4',\n",
    "    1: 4.0,\n",
    "    2: 4.5,\n",
    "    3: 5.0,\n",
    "    4: 5.5,\n",
    "    5: 6.0,\n",
    "    6: 6.5,\n",
    "    7: 7.0,\n",
    "    8: 7.5,\n",
    "    9: 8.0,\n",
    "    10: 8.5,\n",
    "    11: 9.0\n",
    "}\n",
    "\n"
   ]
  },
  {
   "cell_type": "code",
   "execution_count": 11,
   "metadata": {},
   "outputs": [
    {
     "name": "stdout",
     "output_type": "stream",
     "text": [
      "                                                prompt  \\\n",
      "0    In many places women are taking jobs which are...   \n",
      "1    People nowadays tend to have children at older...   \n",
      "2    nowadays celebrities are more famous for their...   \n",
      "3    Some people say that economic growth is the on...   \n",
      "4    Some people decided to have children in their ...   \n",
      "..                                                 ...   \n",
      "972  In cities and towns all over the world the hig...   \n",
      "973  Some people think news has no connection to pe...   \n",
      "974  Some people think the money spent in developin...   \n",
      "975  In the past, people stored knowledge in books....   \n",
      "976  Many people argue that in order to improve edu...   \n",
      "\n",
      "                                                 essay  label  \n",
      "0    In contemporary settings, due to the prevalenc...      8  \n",
      "1    In recent times, most families chose to attain...      7  \n",
      "2    Many famous people are well-known for their gl...      3  \n",
      "3    There are controversial views about whether ec...     11  \n",
      "4    Nowadays, with the development of many types o...      6  \n",
      "..                                                 ...    ...  \n",
      "972  In today's modern world, one of the controvers...      5  \n",
      "973  There is no doubt these days, news is one of t...      7  \n",
      "974  These days the space exploration is not just a...      6  \n",
      "975  In recent times, the Internet has gradually su...     11  \n",
      "976  In recent years, most individuals say that stu...      8  \n",
      "\n",
      "[977 rows x 3 columns]\n"
     ]
    }
   ],
   "source": [
    "# read JSON file\n",
    "json_path = \"./embeddings_dataset_test.json\"\n",
    "df = pd.read_json(json_path)\n",
    "print(df)\n",
    "\n",
    "prompt_list = df[\"prompt\"]\n",
    "essay_list = df[\"essay\"]\n",
    "label_list = df[\"label\"]\n",
    "grade_list = []\n",
    "\n",
    "for i in label_list:\n",
    "    grade_list.append(label_map[i])\n",
    "\n",
    "export_dict = dict()\n",
    "export_dict[\"prompt\"] = prompt_list\n",
    "export_dict[\"essay\"] = essay_list\n",
    "export_dict[\"label\"] = label_list\n",
    "export_dict[\"grade\"] = grade_list\n",
    "\n",
    "df_export = pd.DataFrame(export_dict)\n",
    "\n",
    "output_path = \"./embeddings_dataset_test.csv\"\n",
    "df_export.to_csv(output_path, index=False, encoding='utf-8', mode='w')\n"
   ]
  },
  {
   "cell_type": "code",
   "execution_count": 20,
   "metadata": {},
   "outputs": [
    {
     "name": "stdout",
     "output_type": "stream",
     "text": [
      "                                               prompt  \\\n",
      "0   In many places women are taking jobs which are...   \n",
      "1   People nowadays tend to have children at older...   \n",
      "2   Some people say that economic growth is the on...   \n",
      "3   Some people decided to have children in their ...   \n",
      "4   Write about the following topic.Some universit...   \n",
      "5   some people think the best way to solve global...   \n",
      "6   Some countries more and more people are becomi...   \n",
      "7   Detailed description of crimes on newspaper an...   \n",
      "8   Some people say that economic growth is the on...   \n",
      "9   Some people believe that children that commit ...   \n",
      "10  In some countries, there has been an increase ...   \n",
      "11  Some people think that robots are important fo...   \n",
      "12  Detailed describtion of crimes on newspaper an...   \n",
      "13  In some citites and towns all over the world ,...   \n",
      "14  Some people argue that we should do research i...   \n",
      "15  In some countries, more and more people are be...   \n",
      "16  Nowadays celebrities are more famous for their...   \n",
      "17  It is more important to spend public money on ...   \n",
      "18  Interviews form the basic selection criteria f...   \n",
      "19  Some people think that secondary school childr...   \n",
      "20  Many people think that interviews are not the ...   \n",
      "21  some people believe that eventually all jobs w...   \n",
      "22  In some cities, people are choosing cars inste...   \n",
      "23  Some countries have an ever-increasing proport...   \n",
      "24  Some people believe that eventually all jobs w...   \n",
      "25  People nowadays tend to have children at older...   \n",
      "26  Some universities offer online courses as an a...   \n",
      "27  Some people think that art is an essential sub...   \n",
      "28  Some people think that art is an essential sub...   \n",
      "29  More and more people decide to eat healthy foo...   \n",
      "\n",
      "                                                essay  label  \n",
      "0   In contemporary settings, due to the prevalenc...      8  \n",
      "1   In recent times, most families chose to attain...      7  \n",
      "2   There are controversial views about whether ec...     11  \n",
      "3   Nowadays, with the development of many types o...      6  \n",
      "4   Universities are offering many online courses ...      6  \n",
      "5   Every country faces global environmental probl...      3  \n",
      "6   In this contemporary era, in several countries...      6  \n",
      "7   Many people have expressed that a number of re...      5  \n",
      "8   Countries around the world rely on economic gr...      0  \n",
      "9   No doubt, parents play a crucial role in shapi...      9  \n",
      "10  When thinking about whether their children sho...      4  \n",
      "11  Some would argue that robots are beneficial fo...      3  \n",
      "12  These days that the details of crimes affect b...      0  \n",
      "13  The pie charts display the online shopping sal...      0  \n",
      "14  There are extremely argumentative statements h...      6  \n",
      "15  When buying a new house or a flat in a buildin...      3  \n",
      "16  In recent years, the concept of the phenomenon...      8  \n",
      "17  Thanks to the development of the world, life h...      5  \n",
      "18  Interviews are a common selection method for m...      2  \n",
      "19  The potential increase in global media has bro...      3  \n",
      "20  Generally,office interviews are the best part ...      3  \n",
      "21  Many believed artificially intelligent robots ...      8  \n",
      "22  In modern society, crime rate has been rapidly...      8  \n",
      "23  The young age population have an important imp...      9  \n",
      "24  The recent development of technology has threa...      5  \n",
      "25  In this modern world, there is a new tendency ...      7  \n",
      "26  There is no doubt that online education has be...      8  \n",
      "27  Art is an important culture in the world. Art ...      5  \n",
      "28  The importance of art in the school curriculum...      8  \n",
      "29  Because eating healthy food is very good for o...      0  \n"
     ]
    }
   ],
   "source": [
    "# read csv file and convert json\n",
    "path = \"./selected_embeddings_dataset_test.csv\"\n",
    "output_path = \"./manual_embedding_dataset_test.json\"\n",
    "df = pd.read_csv(path)\n",
    "print(df)\n",
    "df.to_json(output_path, orient=\"records\", indent=4)\n"
   ]
  },
  {
   "cell_type": "code",
   "execution_count": null,
   "metadata": {},
   "outputs": [],
   "source": []
  }
 ],
 "metadata": {
  "kernelspec": {
   "display_name": "ece1786",
   "language": "python",
   "name": "python3"
  },
  "language_info": {
   "codemirror_mode": {
    "name": "ipython",
    "version": 3
   },
   "file_extension": ".py",
   "mimetype": "text/x-python",
   "name": "python",
   "nbconvert_exporter": "python",
   "pygments_lexer": "ipython3",
   "version": "3.10.14"
  }
 },
 "nbformat": 4,
 "nbformat_minor": 2
}

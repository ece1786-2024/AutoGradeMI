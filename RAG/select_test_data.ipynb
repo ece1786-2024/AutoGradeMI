{
 "cells": [
  {
   "cell_type": "code",
   "execution_count": 1,
   "metadata": {},
   "outputs": [],
   "source": [
    "import pandas as pd\n",
    "import numpy as np"
   ]
  },
  {
   "cell_type": "code",
   "execution_count": 2,
   "metadata": {},
   "outputs": [],
   "source": [
    "label_map = {\n",
    "    0: '<4',\n",
    "    1: 4.0,\n",
    "    2: 4.5,\n",
    "    3: 5.0,\n",
    "    4: 5.5,\n",
    "    5: 6.0,\n",
    "    6: 6.5,\n",
    "    7: 7.0,\n",
    "    8: 7.5,\n",
    "    9: 8.0,\n",
    "    10: 8.5,\n",
    "    11: 9.0\n",
    "}\n",
    "\n"
   ]
  },
  {
   "cell_type": "code",
   "execution_count": 11,
   "metadata": {},
   "outputs": [
    {
     "name": "stdout",
     "output_type": "stream",
     "text": [
      "                                                prompt  \\\n",
      "0    In many places women are taking jobs which are...   \n",
      "1    People nowadays tend to have children at older...   \n",
      "2    nowadays celebrities are more famous for their...   \n",
      "3    Some people say that economic growth is the on...   \n",
      "4    Some people decided to have children in their ...   \n",
      "..                                                 ...   \n",
      "972  In cities and towns all over the world the hig...   \n",
      "973  Some people think news has no connection to pe...   \n",
      "974  Some people think the money spent in developin...   \n",
      "975  In the past, people stored knowledge in books....   \n",
      "976  Many people argue that in order to improve edu...   \n",
      "\n",
      "                                                 essay  label  \n",
      "0    In contemporary settings, due to the prevalenc...      8  \n",
      "1    In recent times, most families chose to attain...      7  \n",
      "2    Many famous people are well-known for their gl...      3  \n",
      "3    There are controversial views about whether ec...     11  \n",
      "4    Nowadays, with the development of many types o...      6  \n",
      "..                                                 ...    ...  \n",
      "972  In today's modern world, one of the controvers...      5  \n",
      "973  There is no doubt these days, news is one of t...      7  \n",
      "974  These days the space exploration is not just a...      6  \n",
      "975  In recent times, the Internet has gradually su...     11  \n",
      "976  In recent years, most individuals say that stu...      8  \n",
      "\n",
      "[977 rows x 3 columns]\n"
     ]
    }
   ],
   "source": [
    "# read JSON file\n",
    "json_path = \"./embeddings_dataset_test.json\"\n",
    "df = pd.read_json(json_path)\n",
    "print(df)\n",
    "\n",
    "prompt_list = df[\"prompt\"]\n",
    "essay_list = df[\"essay\"]\n",
    "label_list = df[\"label\"]\n",
    "grade_list = []\n",
    "\n",
    "for i in label_list:\n",
    "    grade_list.append(label_map[i])\n",
    "\n",
    "export_dict = dict()\n",
    "export_dict[\"prompt\"] = prompt_list\n",
    "export_dict[\"essay\"] = essay_list\n",
    "export_dict[\"label\"] = label_list\n",
    "export_dict[\"grade\"] = grade_list\n",
    "\n",
    "df_export = pd.DataFrame(export_dict)\n",
    "\n",
    "output_path = \"./embeddings_dataset_test.csv\"\n",
    "df_export.to_csv(output_path, index=False, encoding='utf-8', mode='w')\n"
   ]
  },
  {
   "cell_type": "code",
   "execution_count": 3,
   "metadata": {},
   "outputs": [
    {
     "name": "stdout",
     "output_type": "stream",
     "text": [
      "                                                prompt  \\\n",
      "0    In many places women are taking jobs which are...   \n",
      "1    People nowadays tend to have children at older...   \n",
      "2    Some people say that economic growth is the on...   \n",
      "3    Some people decided to have children in their ...   \n",
      "4    Write about the following topic.Some universit...   \n",
      "..                                                 ...   \n",
      "97   Many university students cannot find a job in ...   \n",
      "98   Nowadays celebrities are more famous for their...   \n",
      "99   Schools should focus on academic success and p...   \n",
      "100  some people think that in the modern world we ...   \n",
      "101  In some cities and towns all over the world, t...   \n",
      "\n",
      "                                                 essay  label  \n",
      "0    In contemporary settings, due to the prevalenc...      8  \n",
      "1    In recent times, most families chose to attain...      7  \n",
      "2    There are controversial views about whether ec...     11  \n",
      "3    Nowadays, with the development of many types o...      6  \n",
      "4    Universities are offering many online courses ...      6  \n",
      "..                                                 ...    ...  \n",
      "97   It is widely known that there are many univers...      7  \n",
      "98   It is true that most of the celebrities are we...      2  \n",
      "99   In contemporary society, some schools removed ...      6  \n",
      "100  The need for human relationships has changed o...      7  \n",
      "101  The high quantity of vehicle makes heavy traff...      3  \n",
      "\n",
      "[102 rows x 3 columns]\n"
     ]
    }
   ],
   "source": [
    "# read csv file and convert json\n",
    "path = \"./selected_embeddings_dataset_test.csv\"\n",
    "output_path = \"./manual_embedding_dataset_test.json\"\n",
    "df = pd.read_csv(path)\n",
    "print(df)\n",
    "df.to_json(output_path, orient=\"records\", indent=4)\n"
   ]
  },
  {
   "cell_type": "code",
   "execution_count": null,
   "metadata": {},
   "outputs": [],
   "source": []
  }
 ],
 "metadata": {
  "kernelspec": {
   "display_name": "ece1786",
   "language": "python",
   "name": "python3"
  },
  "language_info": {
   "codemirror_mode": {
    "name": "ipython",
    "version": 3
   },
   "file_extension": ".py",
   "mimetype": "text/x-python",
   "name": "python",
   "nbconvert_exporter": "python",
   "pygments_lexer": "ipython3",
   "version": "3.10.14"
  }
 },
 "nbformat": 4,
 "nbformat_minor": 2
}
